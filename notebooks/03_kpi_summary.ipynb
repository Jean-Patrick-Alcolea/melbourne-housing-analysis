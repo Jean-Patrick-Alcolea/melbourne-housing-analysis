{
 "cells": [
  {
   "cell_type": "code",
   "execution_count": 2,
   "id": "9d00db56",
   "metadata": {},
   "outputs": [],
   "source": [
    "# Imports\n",
    "\n",
    "import pandas as pd\n",
    "from pathlib import Path"
   ]
  },
  {
   "cell_type": "code",
   "execution_count": 3,
   "id": "7294bde8",
   "metadata": {},
   "outputs": [],
   "source": [
    "# Load data\n",
    "\n",
    "df = pd.read_csv(Path('../data/Melbourne_clean.csv'))\n",
    "df['date'] = pd.to_datetime(df['date'])"
   ]
  },
  {
   "cell_type": "code",
   "execution_count": 4,
   "id": "4d4f85fd",
   "metadata": {},
   "outputs": [
    {
     "name": "stdout",
     "output_type": "stream",
     "text": [
      "Total Listings: 13510\n",
      "Date Range: 2016-03-09 to 2017-12-08\n",
      "Average Price: 1074796\n",
      "Median Price: 900750\n",
      "Average Land Size (m²): 558.2\n"
     ]
    }
   ],
   "source": [
    "# Basic KPIs\n",
    "\n",
    "kpis = {\n",
    "    'Total Listings' : len(df),\n",
    "    'Date Range' :  f\"{df['date'].min().date()} to {df['date'].max().date()}\",\n",
    "    'Average Price' : f\"{df['price'].mean():.0f}\",\n",
    "    'Median Price' : f\"{df['price'].median():.0f}\",\n",
    "    'Average Land Size (m²)' : f\"{df['landsize'].mean():.1f}\"\n",
    "}\n",
    "\n",
    "for i,j in kpis.items():\n",
    "    print(f'{i}: {j}')"
   ]
  },
  {
   "cell_type": "code",
   "execution_count": 5,
   "id": "7bdb7233",
   "metadata": {},
   "outputs": [
    {
     "name": "stdout",
     "output_type": "stream",
     "text": [
      "Average price by property type:\n",
      "type_full\n",
      "House        $1,242,328\n",
      "Townhouse      $933,998\n",
      "Unit           $605,239\n",
      "Name: price, dtype: object\n"
     ]
    }
   ],
   "source": [
    "# Average price by property type\n",
    "\n",
    "type_labels = {\n",
    "    'h' : 'House',\n",
    "    'u' : 'Unit',\n",
    "    't' : 'Townhouse'\n",
    "}\n",
    "\n",
    "df['type_full'] = df['type'].map(type_labels)\n",
    "\n",
    "avg_price_by_type = df.groupby('type_full')['price'].mean().sort_values(ascending=False)\n",
    "\n",
    "print('Average price by property type:')\n",
    "print(avg_price_by_type.map(lambda x: f'${x:,.0f}'))"
   ]
  },
  {
   "cell_type": "code",
   "execution_count": 6,
   "id": "ff5efa4c",
   "metadata": {},
   "outputs": [
    {
     "name": "stdout",
     "output_type": "stream",
     "text": [
      "Top 10 Suburbs by Average Price:\n",
      "suburb\n",
      "Kooyong         $2,185,000\n",
      "Canterbury      $2,180,241\n",
      "Middle Park     $2,082,529\n",
      "Brighton        $1,930,158\n",
      "Albert Park     $1,929,447\n",
      "Balwyn          $1,869,879\n",
      "Eaglemont       $1,831,696\n",
      "Balwyn North    $1,793,405\n",
      "Kew             $1,758,435\n",
      "Malvern         $1,753,856\n",
      "Name: price, dtype: object\n"
     ]
    }
   ],
   "source": [
    "# top suburbs\n",
    "\n",
    "top_suburbs = df.groupby('suburb')['price'].mean().sort_values(ascending=False).head(10)\n",
    "print('Top 10 Suburbs by Average Price:')\n",
    "print(top_suburbs.map(lambda x: f'${x:,.0f}'))"
   ]
  }
 ],
 "metadata": {
  "kernelspec": {
   "display_name": ".venv",
   "language": "python",
   "name": "python3"
  },
  "language_info": {
   "codemirror_mode": {
    "name": "ipython",
    "version": 3
   },
   "file_extension": ".py",
   "mimetype": "text/x-python",
   "name": "python",
   "nbconvert_exporter": "python",
   "pygments_lexer": "ipython3",
   "version": "3.11.9"
  }
 },
 "nbformat": 4,
 "nbformat_minor": 5
}
